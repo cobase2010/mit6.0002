{
 "cells": [
  {
   "cell_type": "code",
   "execution_count": 9,
   "metadata": {},
   "outputs": [
    {
     "name": "stdout",
     "output_type": "stream",
     "text": [
      "For 10 est. prob. of a shared birthday is 0.1333\n",
      "Actual prob. for N = 100 = 0.1166454118039999\n",
      "For 20 est. prob. of a shared birthday is 0.4491\n",
      "Actual prob. for N = 100 = 0.4105696370550831\n",
      "For 40 est. prob. of a shared birthday is 0.9135\n",
      "Actual prob. for N = 100 = 0.89054476188945\n",
      "For 100 est. prob. of a shared birthday is 1.0\n",
      "Actual prob. for N = 100 = 0.9999996784357714\n"
     ]
    }
   ],
   "source": [
    "# -*- coding: utf-8 -*-\n",
    "\"\"\"\n",
    "Created on Sat Aug 20 11:09:36 2016\n",
    "\n",
    "@author: guttag\n",
    "\"\"\"\n",
    "import random\n",
    " \n",
    "def rollDie():\n",
    "    \"\"\"returns a random int between 1 and 6\"\"\"\n",
    "    return random.choice([1,2,3,4,5,6])\n",
    " \n",
    "def testRoll(n = 10):\n",
    "    result = ''\n",
    "    for i in range(n):\n",
    "        result = result + str(rollDie())\n",
    "    print(result)\n",
    "\n",
    "\n",
    "\n",
    "random.seed(0)\n",
    "# testRoll(5)\n",
    "\n",
    "def runSim(goal, numTrials, txt):\n",
    "    total = 0\n",
    "    for i in range(numTrials):\n",
    "        result = ''\n",
    "        for j in range(len(goal)):\n",
    "            result += str(rollDie())\n",
    "        if result == goal:\n",
    "            total += 1\n",
    "    print('Actual probability of', txt, '=',\n",
    "          round(1/(6**len(goal)), 8)) \n",
    "    estProbability = round(total/numTrials, 8)\n",
    "    print('Estimated Probability of', txt, '=',\n",
    "          round(estProbability, 8))\n",
    "    \n",
    "# runSim('11111', 10000, '11111')\n",
    "\n",
    "def sameDate(numPeople, numSame):\n",
    "    # possibleDates = range(366)\n",
    "    possibleDates = 4*list(range(0, 57)) + [58]\\\n",
    "                   + 4*list(range(59, 366))\\\n",
    "                   + 4*list(range(180, 270))\n",
    "    birthdays = [0]*366\n",
    "    for p in range(numPeople):\n",
    "        birthDate = random.choice(possibleDates)\n",
    "        birthdays[birthDate] += 1\n",
    "    return max(birthdays) >= numSame\n",
    "\n",
    "def birthdayProb(numPeople, numSame, numTrials):\n",
    "    numHits = 0\n",
    "    for t in range(numTrials):\n",
    "        if sameDate(numPeople, numSame):\n",
    "            numHits += 1\n",
    "    return numHits/numTrials\n",
    "\n",
    "import math\n",
    "\n",
    "for numPeople in [10, 20, 40, 100]:\n",
    "    print('For', numPeople,\n",
    "          'est. prob. of a shared birthday is',\n",
    "          birthdayProb(numPeople, 2, 10000))\n",
    "    numerator = math.factorial(366)\n",
    "    denom = (366**numPeople)*math.factorial(366-numPeople)\n",
    "    print('Actual prob. for N = 100 =',\n",
    "          1 - numerator/denom)\n"
   ]
  },
  {
   "cell_type": "code",
   "execution_count": null,
   "metadata": {},
   "outputs": [],
   "source": []
  },
  {
   "cell_type": "code",
   "execution_count": null,
   "metadata": {},
   "outputs": [],
   "source": []
  }
 ],
 "metadata": {
  "interpreter": {
   "hash": "b752aaf130f1b396e33c67af7452c57405803547fa29add5af745fcff528568a"
  },
  "kernelspec": {
   "display_name": "Python 3.8.12 64-bit ('base': conda)",
   "name": "python3"
  },
  "language_info": {
   "codemirror_mode": {
    "name": "ipython",
    "version": 3
   },
   "file_extension": ".py",
   "mimetype": "text/x-python",
   "name": "python",
   "nbconvert_exporter": "python",
   "pygments_lexer": "ipython3",
   "version": "3.8.12"
  },
  "orig_nbformat": 4
 },
 "nbformat": 4,
 "nbformat_minor": 2
}
